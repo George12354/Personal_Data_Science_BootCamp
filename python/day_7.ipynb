{
 "cells": [
  {
   "cell_type": "code",
   "execution_count": 21,
   "metadata": {},
   "outputs": [
    {
     "name": "stdout",
     "output_type": "stream",
     "text": [
      "WELCOME TO THE MINI RECIPE PROGRAM!!!\n",
      "First step pour flour int0 the bowl with little amount of water\n",
      "Add 10 eggss\n",
      "Add 15 teaspoons of sugar\n",
      "Finally add 3kg of butter and stir till it is mixed properly and put in the oven\n"
     ]
    }
   ],
   "source": [
    "print('WELCOME TO THE MINI RECIPE PROGRAM!!!')\n",
    "ingredients = ['flour', 'eggs', 'sugar', 'butter']\n",
    "missing = 0\n",
    "for a in ingredients:\n",
    "    response = input(f'Do you have {a}? (yes/no): ').lower()\n",
    "    if response == 'no':\n",
    "        missing =+1\n",
    "if missing == 0:\n",
    "    print('First step pour flour int0 the bowl with little amount of water\\nAdd 10 eggss\\nAdd 15 teaspoons of sugar\\nFinally add 3kg of butter and stir till it is mixed properly and put in the oven')\n",
    "elif missing == 1:\n",
    "    print('1 ingredient is missing, try to get it')\n",
    "elif missing ==2:\n",
    "    print('2 ingredients are missing, you need to go to the store.')\n",
    "elif missing > 2:\n",
    "    print('This is not the best time to bake')"
   ]
  },
  {
   "cell_type": "code",
   "execution_count": 23,
   "metadata": {},
   "outputs": [
    {
     "name": "stdout",
     "output_type": "stream",
     "text": [
      "Welcome to python class\n"
     ]
    }
   ],
   "source": [
    "#Functions\n",
    "\n",
    "def greet():\n",
    "    print('Welcome to python class')\n",
    "\n",
    "greet()"
   ]
  },
  {
   "cell_type": "code",
   "execution_count": 25,
   "metadata": {},
   "outputs": [
    {
     "name": "stdout",
     "output_type": "stream",
     "text": [
      "Citezen Details.\n",
      "NAME:sam\n",
      "GENDER:Male\n",
      "AGE:15\n",
      "Sorry you are not eligible to vote\n"
     ]
    }
   ],
   "source": [
    "#Functions with parameter\n",
    "def vote(name, gender, age):\n",
    "    print('Citezen Details.')\n",
    "    print(f'NAME:{name}\\nGENDER:{gender}\\nAGE:{age}')\n",
    "    if age >= 18:\n",
    "        print('You are not eligible to vote')\n",
    "    else:\n",
    "        print('Sorry you are not eligible to vote')\n",
    "vote('sam', 'Male', 15)"
   ]
  },
  {
   "cell_type": "code",
   "execution_count": 27,
   "metadata": {},
   "outputs": [
    {
     "name": "stdout",
     "output_type": "stream",
     "text": [
      "Citezen Details.\n",
      "NAME:unknown\n",
      "GENDER:unknown\n",
      "AGE:18\n",
      "You are not eligible to vote\n"
     ]
    }
   ],
   "source": [
    "#Functions with a defualt parameter\n",
    "def vote(name='unknown', gender='unknown', age=18):\n",
    "    print('Citezen Details.')\n",
    "    print(f'NAME:{name}\\nGENDER:{gender}\\nAGE:{age}')\n",
    "    if age >= 18:\n",
    "        print('You are not eligible to vote')\n",
    "    else:\n",
    "        print('Sorry you are not eligible to vote')\n",
    "vote()"
   ]
  }
 ],
 "metadata": {
  "kernelspec": {
   "display_name": "Python 3",
   "language": "python",
   "name": "python3"
  },
  "language_info": {
   "codemirror_mode": {
    "name": "ipython",
    "version": 3
   },
   "file_extension": ".py",
   "mimetype": "text/x-python",
   "name": "python",
   "nbconvert_exporter": "python",
   "pygments_lexer": "ipython3",
   "version": "3.12.5"
  }
 },
 "nbformat": 4,
 "nbformat_minor": 2
}
