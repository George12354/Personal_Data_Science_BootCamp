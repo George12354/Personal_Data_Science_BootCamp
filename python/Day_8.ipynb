{
 "cells": [
  {
   "cell_type": "code",
   "execution_count": 8,
   "metadata": {},
   "outputs": [
    {
     "name": "stdout",
     "output_type": "stream",
     "text": [
      "Your total score is 0 \n"
     ]
    }
   ],
   "source": [
    "#Excersice\n",
    "question = {\n",
    "    \"what is your name?\": 'george',\n",
    "    'what is a noun?': 'things',\n",
    "    'what is a python': 'a language',\n",
    "    'what is a computer?': 'a device',\n",
    "    'what is a plant':'a living thing',\n",
    "    'what is a system': 'stuff',\n",
    "    'what is a device?':'things'\n",
    "}\n",
    "\n",
    "def quiz():\n",
    "    score = 0\n",
    "    for a in question:\n",
    "        answer = input(a).lower()\n",
    "        if answer == question[a]:\n",
    "            score +=10\n",
    "        else:\n",
    "            score +=0\n",
    "    print(f'Your total score is {score} ')\n",
    "quiz()"
   ]
  },
  {
   "cell_type": "code",
   "execution_count": 9,
   "metadata": {},
   "outputs": [
    {
     "name": "stdout",
     "output_type": "stream",
     "text": [
      "Your total score is 10 \n"
     ]
    }
   ],
   "source": [
    "def quiz_program():\n",
    "    score = 0\n",
    "    #Question one\n",
    "    print('Question 1: What is the capital of France?')\n",
    "    print('1.Berlin\\n2. Madrid\\n3. Paris\\n4. Rome')\n",
    "    answer = input('Enter the number of your answer:')\n",
    "    if answer == '3':\n",
    "        score += 10\n",
    "    else:\n",
    "        score +=0\n",
    "    #Question two\n",
    "    print('Question 2: How many basic data types do we have in python?')\n",
    "    print('1.5\\n2. 4\\n3. 6\\n4. 3')\n",
    "    answer = input('Enter the number of your answer:')\n",
    "    if answer == '2':\n",
    "        score += 10\n",
    "    else:\n",
    "        score +=0\n",
    "quiz()\n"
   ]
  },
  {
   "cell_type": "code",
   "execution_count": 11,
   "metadata": {},
   "outputs": [
    {
     "name": "stdout",
     "output_type": "stream",
     "text": [
      "The average or mean score of the following numbers (23, 64, 47, 3, 64, 75, 2) is 39.714285714285715\n"
     ]
    }
   ],
   "source": [
    "# *args:\n",
    "# Allows a function to accept any number of positional arguments.\n",
    "# It collects the extra arguments into a tuple.\n",
    "def average(*args):\n",
    "    avg = sum(args) / len(args)\n",
    "    print(f'The average or mean score of the following numbers {args} is {avg}')\n",
    "average(23,64,47,3,64,75,2)"
   ]
  },
  {
   "cell_type": "code",
   "execution_count": 12,
   "metadata": {},
   "outputs": [
    {
     "name": "stdout",
     "output_type": "stream",
     "text": [
      "The average or mean score of the following numbers (34, 54, 64, 2) is 38.5\n"
     ]
    }
   ],
   "source": [
    "#unpacking values from list to int\n",
    "score = [34,54,64,2]\n",
    "average(*score)"
   ]
  },
  {
   "cell_type": "code",
   "execution_count": 28,
   "metadata": {},
   "outputs": [
    {
     "name": "stdout",
     "output_type": "stream",
     "text": [
      "Name: Ade\n",
      "Gender: Male\n"
     ]
    }
   ],
   "source": [
    "# **kwargs:\n",
    "# Allows a function to accept any number of keyword arguments (i.e., named arguments).\n",
    "# It collects the extra keyword arguments into a dictionary.\n",
    "\n",
    "def records(**kwargs):\n",
    "    for key, kwargs in kwargs.items():\n",
    "        print(f'{key}: {kwargs}')\n",
    "\n",
    "records(Name = 'Ade', Gender = 'Male')"
   ]
  },
  {
   "cell_type": "code",
   "execution_count": 29,
   "metadata": {},
   "outputs": [
    {
     "name": "stdout",
     "output_type": "stream",
     "text": [
      "Reg101: ['Bola', 21, 34, 5, 2]\n",
      "Reg102: ['Femi', 90, 43, 64, 23]\n"
     ]
    }
   ],
   "source": [
    "database = {\n",
    "    'Reg101': ['Bola',21,34,5,2],\n",
    "    'Reg102': ['Femi', 90,43,64,23]\n",
    "}\n",
    "records(**database)"
   ]
  }
 ],
 "metadata": {
  "kernelspec": {
   "display_name": "Python 3",
   "language": "python",
   "name": "python3"
  },
  "language_info": {
   "codemirror_mode": {
    "name": "ipython",
    "version": 3
   },
   "file_extension": ".py",
   "mimetype": "text/x-python",
   "name": "python",
   "nbconvert_exporter": "python",
   "pygments_lexer": "ipython3",
   "version": "3.12.5"
  }
 },
 "nbformat": 4,
 "nbformat_minor": 2
}
