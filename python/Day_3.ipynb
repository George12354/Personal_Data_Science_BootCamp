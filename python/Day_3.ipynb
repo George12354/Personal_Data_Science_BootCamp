{
 "cells": [
  {
   "cell_type": "code",
   "execution_count": 2,
   "metadata": {},
   "outputs": [
    {
     "name": "stdout",
     "output_type": "stream",
     "text": [
      "6 + 9 = 15\n",
      "6 - 9 = -3\n",
      "6 * 9 = 54\n",
      "6 / 9 = 0.6666666666666666\n",
      "6 % 9 = 6\n",
      "6 // 9 = 0\n",
      "6 ** 9 = 54\n"
     ]
    }
   ],
   "source": [
    "#Arithemetic operators [+,-,/,//,*,** ]\n",
    "num1 = int(input('Please enter number one value: '))\n",
    "num2 = int(input('Please enter number two value: '))\n",
    "print(f'{num1} + {num2} = {num1 + num2}')\n",
    "print(f'{num1} - {num2} = {num1 - num2}')\n",
    "print(f'{num1} * {num2} = {num1 * num2}')\n",
    "print(f'{num1} / {num2} = {num1 / num2}')\n",
    "print(f'{num1} % {num2} = {num1 % num2}')\n",
    "print(f'{num1} // {num2} = {num1 // num2}')\n",
    "print(f'{num1} ** {num2} = {num1 * num2}')\n"
   ]
  },
  {
   "cell_type": "code",
   "execution_count": 4,
   "metadata": {},
   "outputs": [
    {
     "name": "stdout",
     "output_type": "stream",
     "text": [
      "Your overall monthly income is 3600\n",
      "Your overall expenses is 2150\n",
      "Your Savings is 360.0\n",
      "Your avaliablee balance after all deduction is 1090.0\n"
     ]
    }
   ],
   "source": [
    "monthly_income = 3000\n",
    "side_income = 600\n",
    "rent = 1500\n",
    "groceries = 300\n",
    "transportation = 100\n",
    "entertainment = 50\n",
    "utilities = 200\n",
    "total_income = monthly_income + side_income\n",
    "print(f'Your overall monthly income is {total_income}')\n",
    "total_exp = rent + groceries + transportation + entertainment + utilities\n",
    "print(f'Your overall expenses is {total_exp}')\n",
    "total_saving = total_income * 0.10\n",
    "print(f'Your Savings is {total_saving}')\n",
    "money_left = total_income - total_exp - total_saving\n",
    "print(f'Your avaliablee balance after all deduction is {money_left}')"
   ]
  },
  {
   "cell_type": "code",
   "execution_count": 7,
   "metadata": {},
   "outputs": [
    {
     "name": "stdout",
     "output_type": "stream",
     "text": [
      "True\n",
      "True\n"
     ]
    }
   ],
   "source": [
    "#Comparison Operators[>, <, >=, <=, ==,!=]\n",
    "print(num1 != num2)\n",
    "print(num2 > num1)\n"
   ]
  },
  {
   "cell_type": "code",
   "execution_count": 9,
   "metadata": {},
   "outputs": [
    {
     "name": "stdout",
     "output_type": "stream",
     "text": [
      "False\n"
     ]
    }
   ],
   "source": [
    "#Logical operators[and, or ,not]\n",
    "print(num1 > num2 and num1 != num2)"
   ]
  },
  {
   "cell_type": "code",
   "execution_count": 12,
   "metadata": {},
   "outputs": [
    {
     "name": "stdout",
     "output_type": "stream",
     "text": [
      "True\n",
      "True\n"
     ]
    }
   ],
   "source": [
    "#Membership Operators\n",
    "word = 'python'\n",
    "print('p' in word)\n",
    "print('P' not in word)"
   ]
  },
  {
   "cell_type": "code",
   "execution_count": 14,
   "metadata": {},
   "outputs": [
    {
     "name": "stdout",
     "output_type": "stream",
     "text": [
      "False\n",
      "True\n"
     ]
    }
   ],
   "source": [
    "#Identity Operators [is, is not]\n",
    "print(num1 is num2)\n",
    "print(num1 is not num2)"
   ]
  },
  {
   "cell_type": "code",
   "execution_count": null,
   "metadata": {},
   "outputs": [],
   "source": []
  }
 ],
 "metadata": {
  "kernelspec": {
   "display_name": "Python 3",
   "language": "python",
   "name": "python3"
  },
  "language_info": {
   "codemirror_mode": {
    "name": "ipython",
    "version": 3
   },
   "file_extension": ".py",
   "mimetype": "text/x-python",
   "name": "python",
   "nbconvert_exporter": "python",
   "pygments_lexer": "ipython3",
   "version": "3.12.5"
  }
 },
 "nbformat": 4,
 "nbformat_minor": 2
}
