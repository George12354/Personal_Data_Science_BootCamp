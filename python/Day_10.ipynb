{
 "cells": [
  {
   "cell_type": "code",
   "execution_count": 4,
   "metadata": {},
   "outputs": [
    {
     "name": "stdout",
     "output_type": "stream",
     "text": [
      "['MAXYEAR', 'MINYEAR', 'UTC', '__all__', '__builtins__', '__cached__', '__doc__', '__file__', '__loader__', '__name__', '__package__', '__spec__', 'date', 'datetime', 'datetime_CAPI', 'time', 'timedelta', 'timezone', 'tzinfo']\n"
     ]
    }
   ],
   "source": [
    "import datetime\n",
    "\n",
    "print(dir(datetime))\n",
    "\n",
    "date_1 = datetime.date(2003,4,12)\n",
    "\n"
   ]
  },
  {
   "cell_type": "code",
   "execution_count": 7,
   "metadata": {},
   "outputs": [
    {
     "name": "stdout",
     "output_type": "stream",
     "text": [
      "2003\n",
      "4\n",
      "12\n",
      "5\n",
      "6\n"
     ]
    }
   ],
   "source": [
    "print(date_1.year)\n",
    "print(date_1.month)\n",
    "print(date_1.day)\n",
    "print(date_1.weekday())\n",
    "print(date_1.isoweekday())"
   ]
  },
  {
   "cell_type": "code",
   "execution_count": 13,
   "metadata": {},
   "outputs": [
    {
     "name": "stdout",
     "output_type": "stream",
     "text": [
      "2024-10-07\n",
      "2024\n",
      "10\n",
      "7\n"
     ]
    }
   ],
   "source": [
    "current_date = datetime.date.today()\n",
    "print(current_date)\n",
    "print(current_date.year)\n",
    "print(current_date.month)\n",
    "print(current_date.day)"
   ]
  },
  {
   "cell_type": "code",
   "execution_count": 31,
   "metadata": {},
   "outputs": [
    {
     "name": "stdout",
     "output_type": "stream",
     "text": [
      "Monday\n",
      "Mon\n",
      "October\n",
      "Oct\n",
      "10\n",
      "07\n",
      "2024\n",
      "24\n"
     ]
    }
   ],
   "source": [
    "# using strftime function: used for modification of date and time\n",
    "print(current_date.strftime('%A'))\n",
    "print(current_date.strftime('%a'))\n",
    "print(current_date.strftime('%B'))\n",
    "print(current_date.strftime('%b'))\n",
    "print(current_date.strftime('%m'))\n",
    "print(current_date.strftime('%d'))\n",
    "print(current_date.strftime('%Y'))\n",
    "print(current_date.strftime('%y'))\n"
   ]
  },
  {
   "cell_type": "code",
   "execution_count": 33,
   "metadata": {},
   "outputs": [
    {
     "name": "stdout",
     "output_type": "stream",
     "text": [
      "07th/October/2024\n"
     ]
    }
   ],
   "source": [
    "print(current_date.strftime('%dth/%B/%Y'))"
   ]
  },
  {
   "cell_type": "code",
   "execution_count": 41,
   "metadata": {},
   "outputs": [
    {
     "name": "stdout",
     "output_type": "stream",
     "text": [
      "15:09:46.071996\n",
      "15\n",
      "03\n",
      "09\n",
      "46\n",
      "071996\n",
      "PM\n",
      "03::09::46::PM\n"
     ]
    }
   ],
   "source": [
    "# Time\n",
    "current_time = datetime.datetime.now().time()\n",
    "print(current_time)\n",
    "# H is for 24 hr format and I for 12 hr\n",
    "print(current_time.strftime('%H'))\n",
    "print(current_time.strftime('%I'))\n",
    "print(current_time.strftime('%M'))\n",
    "print(current_time.strftime('%S'))\n",
    "print(current_time.strftime('%f'))\n",
    "print(current_time.strftime('%p'))\n",
    "print(current_time.strftime('%I::%M::%S::%p'))"
   ]
  },
  {
   "cell_type": "code",
   "execution_count": 68,
   "metadata": {},
   "outputs": [
    {
     "name": "stdout",
     "output_type": "stream",
     "text": [
      "2021-10-02 00:00:00\n"
     ]
    }
   ],
   "source": [
    "# strptime\n",
    "var = input(\"Enter date(mm/dd/yy): \")\n",
    "converted_var = datetime.datetime.strptime(var,'%m/%d/%Y')\n",
    "\n",
    "print(converted_var)\n"
   ]
  },
  {
   "cell_type": "code",
   "execution_count": 62,
   "metadata": {},
   "outputs": [
    {
     "name": "stdout",
     "output_type": "stream",
     "text": [
      "7849 days, 0:00:00\n"
     ]
    }
   ],
   "source": [
    "# timedelta is simply the difference between two dates and two datetime\n",
    "print(current_date - date_1)\n"
   ]
  },
  {
   "cell_type": "code",
   "execution_count": 66,
   "metadata": {},
   "outputs": [
    {
     "data": {
      "text/plain": [
       "datetime.date(2025, 3, 6)"
      ]
     },
     "execution_count": 66,
     "metadata": {},
     "output_type": "execute_result"
    }
   ],
   "source": [
    "current_date + datetime.timedelta(days= 150)"
   ]
  },
  {
   "cell_type": "code",
   "execution_count": null,
   "metadata": {},
   "outputs": [],
   "source": [
    "var = input(\"Enter date(dd/mm/yy  T): \")\n",
    "converted_var = datetime.strptime(var,\"%d/%m/%Y %I\")\n",
    "\n",
    "date= converted_var.day\n",
    "month = converted_var.strftime(\"%B\")\n",
    "year = converted_var.year\n",
    "time = converted_var.time().strftime(\"%I\").lstrip(\"0\")\n",
    "\n",
    "\n",
    "print(f\"Hey user you are invited to our program on the {date}th of {month}, {year} by {time}pm prompt\")"
   ]
  }
 ],
 "metadata": {
  "kernelspec": {
   "display_name": "Python 3",
   "language": "python",
   "name": "python3"
  },
  "language_info": {
   "codemirror_mode": {
    "name": "ipython",
    "version": 3
   },
   "file_extension": ".py",
   "mimetype": "text/x-python",
   "name": "python",
   "nbconvert_exporter": "python",
   "pygments_lexer": "ipython3",
   "version": "3.12.5"
  }
 },
 "nbformat": 4,
 "nbformat_minor": 2
}
