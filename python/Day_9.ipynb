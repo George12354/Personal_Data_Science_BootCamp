{
 "cells": [
  {
   "cell_type": "code",
   "execution_count": 2,
   "metadata": {},
   "outputs": [
    {
     "name": "stdout",
     "output_type": "stream",
     "text": [
      "['BOB', 'FAITH', 'BANKY', 'WEST', 'HENRY', 'BOLA']\n"
     ]
    }
   ],
   "source": [
    "#Map and filter\n",
    "names = ['bob', 'faith','banky', 'west', 'henry', 'bola']\n",
    "update = list(map(lambda x: x.upper(), names))\n",
    "print(update)"
   ]
  },
  {
   "cell_type": "code",
   "execution_count": 20,
   "metadata": {},
   "outputs": [
    {
     "name": "stdout",
     "output_type": "stream",
     "text": [
      "['hbnry']\n"
     ]
    }
   ],
   "source": [
    "names = ['bob', 'faith','banky', 'west', 'henry', 'bola']\n",
    "update = list(filter(lambda x: x[0] == 'b', names))\n",
    "print(update)"
   ]
  },
  {
   "cell_type": "code",
   "execution_count": 21,
   "metadata": {},
   "outputs": [
    {
     "name": "stdout",
     "output_type": "stream",
     "text": [
      "[23, 56, 61, 74, 15, 25, 52, 23, 61, 68, 51, 31, 30, 46, 39, 60, 31, 18, 16, 51, 18, 74, 55, 23, 33, 35, 48, 59, 26, 18, 55, 26, 69, 41, 48, 45, 64, 69, 50, 15, 49, 68, 60, 29, 45, 22, 41, 42, 55, 58]\n"
     ]
    }
   ],
   "source": [
    "import random\n",
    "\n",
    "numbers = []\n",
    "count = 1 \n",
    "while count <= 50:\n",
    "    num = random.randint(15, 75)\n",
    "    numbers.append(num)\n",
    "    count +=1\n",
    "print(numbers)"
   ]
  },
  {
   "cell_type": "code",
   "execution_count": 24,
   "metadata": {},
   "outputs": [
    {
     "name": "stdout",
     "output_type": "stream",
     "text": [
      "even numbers[56, 74, 52, 68, 30, 46, 60, 18, 16, 18, 74, 48, 26, 18, 26, 48, 64, 50, 68, 60, 22, 42, 58]\n",
      "odd numbers[23, 61, 15, 25, 23, 61, 51, 31, 39, 31, 51, 55, 23, 33, 35, 59, 55, 69, 41, 45, 69, 15, 49, 29, 45, 41, 55]\n"
     ]
    }
   ],
   "source": [
    "update = list(filter(lambda x: x % 2 ==0, numbers))\n",
    "print(f'even numbers: {update}')\n",
    "\n",
    "update = list(filter(lambda x: x % 2 ==1, numbers))\n",
    "print(f'odd numbers: {update}')"
   ]
  },
  {
   "cell_type": "code",
   "execution_count": null,
   "metadata": {},
   "outputs": [],
   "source": [
    "#error handling\n",
    "#try, except, else, finally\n",
    "\n",
    "try:\n",
    "    num1 = int(input('Please enter number one value: '))\n",
    "    num2 = int(input('Please enter number two value: '))\n",
    "    operation = input('Choose your operation[+,-,/,*]:')\n",
    "    if operation == '+':\n",
    "        print(f'{num1} + {num2} = {num1 + num2}')\n",
    "    elif operation == '-':\n",
    "        print(f'{num1} - {num2} = {num1 - num2}')\n",
    "    elif operation == '*':\n",
    "        print(f'{num1} * {num2} = {num1 * num2}')\n",
    "    elif operation == '/':\n",
    "        print(f'{num1} / {num2} = {num1 / num2}')\n",
    "except:\n",
    "    print('You have one or more errors')"
   ]
  },
  {
   "cell_type": "code",
   "execution_count": null,
   "metadata": {},
   "outputs": [],
   "source": [
    "try:\n",
    "    num1 = int(input('Please enter number one value: '))\n",
    "    num2 = int(input('Please enter number two value: '))\n",
    "    operation = input('Choose your operation[+,-,/,*]:')\n",
    "    if operation == '+':\n",
    "        print(f'{num1} + {num2} = {num1 + num2}')\n",
    "    elif operation == '-':\n",
    "        print(f'{num1} - {num2} = {num1 - num2}')\n",
    "    elif operation == '*':\n",
    "        print(f'{num1} * {num2} = {num1 * num2}')\n",
    "    elif operation == '/':\n",
    "        print(f'{num1} / {num2} = {num1 / num2}')\n",
    "except ValueError:\n",
    "    print('Wrong value, whole number is expected')\n",
    "except ZeroDivisionError:\n",
    "    print('You cannot divide a number by zero')\n",
    "except:\n",
    "    print('You have one or more errors')"
   ]
  },
  {
   "cell_type": "code",
   "execution_count": null,
   "metadata": {},
   "outputs": [],
   "source": [
    "try:\n",
    "    num1 = int(input('Please enter number one value: '))\n",
    "    num2 = int(input('Please enter number two value: '))\n",
    "    operation = input('Choose your operation[+,-,/,*]:')\n",
    "    if operation == '+':\n",
    "        print(f'{num1} + {num2} = {num1 + num2}')\n",
    "    elif operation == '-':\n",
    "        print(f'{num1} - {num2} = {num1 - num2}')\n",
    "    elif operation == '*':\n",
    "        print(f'{num1} * {num2} = {num1 * num2}')\n",
    "    elif operation == '/':\n",
    "        print(f'{num1} / {num2} = {num1 / num2}')\n",
    "except ValueError:\n",
    "    print('Wrong value, whole number is expected')\n",
    "except ZeroDivisionError:\n",
    "    print('You cannot divide a number by zero')\n",
    "except:\n",
    "    print('You have one or more errors')\n",
    "\n",
    "else:\n",
    "    print(num1**num2)"
   ]
  },
  {
   "cell_type": "code",
   "execution_count": null,
   "metadata": {},
   "outputs": [],
   "source": [
    "try:\n",
    "    num1 = int(input('Please enter number one value: '))\n",
    "    num2 = int(input('Please enter number two value: '))\n",
    "    operation = input('Choose your operation[+,-,/,*]:')\n",
    "    if operation == '+':\n",
    "        print(f'{num1} + {num2} = {num1 + num2}')\n",
    "    elif operation == '-':\n",
    "        print(f'{num1} - {num2} = {num1 - num2}')\n",
    "    elif operation == '*':\n",
    "        print(f'{num1} * {num2} = {num1 * num2}')\n",
    "    elif operation == '/':\n",
    "        print(f'{num1} / {num2} = {num1 / num2}')\n",
    "except ValueError:\n",
    "    print('Wrong value, whole number is expected')\n",
    "except ZeroDivisionError:\n",
    "    print('You cannot divide a number by zero')\n",
    "except:\n",
    "    print('You have one or more errors')\n",
    "\n",
    "else:\n",
    "    print(num1**num2)\n",
    "finally:\n",
    "    print('End of program')"
   ]
  }
 ],
 "metadata": {
  "kernelspec": {
   "display_name": "Python 3",
   "language": "python",
   "name": "python3"
  },
  "language_info": {
   "codemirror_mode": {
    "name": "ipython",
    "version": 3
   },
   "file_extension": ".py",
   "mimetype": "text/x-python",
   "name": "python",
   "nbconvert_exporter": "python",
   "pygments_lexer": "ipython3",
   "version": "3.12.5"
  }
 },
 "nbformat": 4,
 "nbformat_minor": 2
}
