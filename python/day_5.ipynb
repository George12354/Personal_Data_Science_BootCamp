{
 "cells": [
  {
   "cell_type": "code",
   "execution_count": 3,
   "metadata": {},
   "outputs": [
    {
     "name": "stdout",
     "output_type": "stream",
     "text": [
      "Invalid option\n"
     ]
    }
   ],
   "source": [
    "customer_category = input('Enter you category [Rgular, student, senior, senior citizen]:')\n",
    "if customer_category == 'regular':\n",
    "    print('Your ticket fee is $12')\n",
    "elif customer_category == 'student':\n",
    "    print('Your ticket fee is $8')\n",
    "elif customer_category == 'senior citizen':\n",
    "    print('Your ticket fee is $10')\n",
    "    print('Not')\n",
    "else:\n",
    "    print('Invalid option')"
   ]
  },
  {
   "cell_type": "code",
   "execution_count": null,
   "metadata": {},
   "outputs": [],
   "source": []
  }
 ],
 "metadata": {
  "kernelspec": {
   "display_name": "Python 3",
   "language": "python",
   "name": "python3"
  },
  "language_info": {
   "codemirror_mode": {
    "name": "ipython",
    "version": 3
   },
   "file_extension": ".py",
   "mimetype": "text/x-python",
   "name": "python",
   "nbconvert_exporter": "python",
   "pygments_lexer": "ipython3",
   "version": "3.12.5"
  }
 },
 "nbformat": 4,
 "nbformat_minor": 2
}
