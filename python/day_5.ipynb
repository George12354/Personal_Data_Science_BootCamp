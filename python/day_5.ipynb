version https://git-lfs.github.com/spec/v1
oid sha256:3417ad1ddaa2f1b3ecd07b6ce551fd2ed11dfa5a07cd52a5648a68aa803045a3
size 1239
