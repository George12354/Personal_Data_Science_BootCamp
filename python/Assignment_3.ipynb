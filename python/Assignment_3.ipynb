{
 "cells": [
  {
   "cell_type": "markdown",
   "metadata": {},
   "source": [
    "Scenario 1: Determining Eligibility for a Bonus\n",
    "Problem: A company gives out annual bonuses to employees based on the following criteria:\n",
    "\n",
    "Employee must have worked for at least 5 years.\n",
    "Employee must have a performance rating of 4 or above.\n",
    "Employee must not have taken more than 10 days of sick leave.\n",
    "Employee must have completed at least 3 major projects.\n",
    "Employee must have no major disciplinary actions.\n",
    "Write a for loop that checks which employees meet all of these conditions and are eligible for a bonus.\n"
   ]
  },
  {
   "cell_type": "code",
   "execution_count": 2,
   "metadata": {},
   "outputs": [
    {
     "name": "stdout",
     "output_type": "stream",
     "text": [
      "john has not met all the condition\n",
      "obi has met all of these conditions and are eligible for a bonus\n",
      "drake has not met all the condition\n",
      "charles has not met all the condition\n"
     ]
    }
   ],
   "source": [
    "Employee = {\n",
    "    'john': {\n",
    "        'years worked': 7,\n",
    "        'rating': 3,\n",
    "        'sick days': 35,\n",
    "        'major projects': 3,\n",
    "        'No of disciplinary action': 22},\n",
    "    'obi':{\n",
    "        'years worked': 5,\n",
    "        'rating': 4,\n",
    "        'sick days': 3,\n",
    "        'major projects': 3,\n",
    "        'No of disciplinary action': 0},\n",
    "    'drake':{\n",
    "        'years worked': 20,\n",
    "        'rating': 1,\n",
    "        'sick days': 5,\n",
    "        'major projects': 2,\n",
    "        'No of disciplinary action': 2},\n",
    "    'charles':{\n",
    "        'years worked': 7,\n",
    "        'rating': 3,\n",
    "        'sick days': 5,\n",
    "        'major projects': 6,\n",
    "        'No of disciplinary action': 10},\n",
    "}\n",
    "\n",
    "for member in Employee:\n",
    "    if Employee[member]['years worked'] >= 5 and Employee[member]['rating'] >= 4 and Employee[member]['sick days'] <= 10 and Employee[member]['major projects'] >= 3 and Employee[member]['No of disciplinary action'] == 0:\n",
    "        print(f'{member} has met all of these conditions and are eligible for a bonus')\n",
    "    else:\n",
    "        print(f'{member} has not met all the condition')"
   ]
  },
  {
   "cell_type": "markdown",
   "metadata": {},
   "source": [
    "Here are 5 real-world questions with multiple conditions for you to work on:\n",
    "\n",
    "Scenario 1: Grading Students Based on Multiple Criteria\n",
    "Problem: A teacher needs to assign letter grades to students based on their scores. The grading system is as follows:\n",
    "\n",
    "A: 90-100\n",
    "B: 80-89\n",
    "C: 70-79\n",
    "D: 60-69\n",
    "F: Below 60\n",
    "Write a for loop that checks each student's score and assigns a grade based on these criteria."
   ]
  },
  {
   "cell_type": "code",
   "execution_count": 3,
   "metadata": {},
   "outputs": [
    {
     "name": "stdout",
     "output_type": "stream",
     "text": [
      "C\n",
      "F\n",
      "A\n",
      "F\n",
      "F\n",
      "F\n",
      "F\n",
      "F\n",
      "F\n",
      "F\n",
      "F\n",
      "A\n"
     ]
    }
   ],
   "source": [
    "students = [78,23,95,54,34,23,46,23,13,53,23,90]\n",
    "\n",
    "for score in students:\n",
    "    if 90 <= score <= 100:\n",
    "        print('A')\n",
    "    elif 80 <= score <= 89:\n",
    "        print('B')\n",
    "    elif 70 <= score <= 79:\n",
    "        print('C')\n",
    "    elif 60 <= score <= 69:\n",
    "        print('D')\n",
    "    elif score < 60:\n",
    "        print('F')"
   ]
  },
  {
   "cell_type": "markdown",
   "metadata": {},
   "source": [
    "Scenario 2: Awarding a Scholarship\n",
    "Problem: A scholarship program is available to students based on the following criteria:\n",
    "\n",
    "The student must have a GPA of at least 3.5.\n",
    "The student must be involved in at least 3 extracurricular activities.\n",
    "The student must have no disciplinary record.\n",
    "The student must have at least 90% attendance.\n",
    "Write a for loop to check which students qualify for the scholarship based on a list of students and their corresponding records."
   ]
  },
  {
   "cell_type": "code",
   "execution_count": 4,
   "metadata": {},
   "outputs": [
    {
     "name": "stdout",
     "output_type": "stream",
     "text": [
      "john is qualified for the scholarship\n",
      "obi is not qualified for the scholarship\n",
      "drake is not qualified for the scholarship\n",
      "charles is not qualified for the scholarship\n"
     ]
    }
   ],
   "source": [
    "students = {\n",
    "    'john': {\n",
    "        'GPA': 3.5,\n",
    "        'curricular': 3,\n",
    "        'disciplinary': 0,\n",
    "        'attendance': 90},\n",
    "    'obi':{\n",
    "        'GPA':3.0,\n",
    "        'curricular': 1,\n",
    "        'disciplinary': 0,\n",
    "        'attendance': 85},\n",
    "    'drake':{\n",
    "        'GPA': 4.5,\n",
    "        'curricular': 0,\n",
    "        'disciplinary': 0,\n",
    "        'attendance': 35},\n",
    "    'charles':{\n",
    "        'GPA': 3.5,\n",
    "        'curricular': 3,\n",
    "        'disciplinary': 5,\n",
    "        'attendance': 70}\n",
    "}\n",
    "\n",
    "for student_name in students:\n",
    "    if students[student_name]['GPA'] >= 3.5 and students[student_name]['curricular'] >= 3 and students[student_name]['disciplinary'] == 0 and students[student_name]['attendance'] >= 90:\n",
    "        print(f'{student_name} is qualified for the scholarship')\n",
    "    else:\n",
    "        print(f'{student_name} is not qualified for the scholarship')"
   ]
  },
  {
   "cell_type": "markdown",
   "metadata": {},
   "source": [
    "Scenario 3: Fitness Membership Discounts\n",
    "Problem: A fitness center offers different membership discounts based on a customer's profile:\n",
    "\n",
    "30% discount for students under 25 years old.\n",
    "20% discount for people over 60 years old.\n",
    "15% discount for first-time members.\n",
    "10% discount for gym members with more than 1-year membership.\n",
    "Write a for loop that checks each customer's profile and applies the appropriate discount."
   ]
  },
  {
   "cell_type": "code",
   "execution_count": 5,
   "metadata": {},
   "outputs": [
    {
     "name": "stdout",
     "output_type": "stream",
     "text": [
      "30% discount for students under 25 years old.\n",
      "20% discount for people over 60 years old.\n",
      "15% discount for first-time members.\n",
      "10% discount for gym members with more than 1-year membership.\n"
     ]
    }
   ],
   "source": [
    "member = {\n",
    "    'profile 1': 'under 25',\n",
    "    'profile 2': 'over 60',\n",
    "    'profile 3': 'first timer',\n",
    "    'profile 4': 'gym member'\n",
    "}\n",
    "\n",
    "for profile in member:\n",
    "    if member[profile] == 'under 25':\n",
    "        print(f'30% discount for students under 25 years old.')\n",
    "    elif member[profile] == 'over 60':\n",
    "        print(f'20% discount for people over 60 years old.')\n",
    "    elif member[profile] == 'first timer':\n",
    "        print(f'15% discount for first-time members.')\n",
    "    elif member[profile] == 'gym member':\n",
    "        print(f'10% discount for gym members with more than 1-year membership.')"
   ]
  },
  {
   "cell_type": "markdown",
   "metadata": {},
   "source": [
    "Scenario 4: Approving Loan Applications\n",
    "Problem: A bank approves loan applications based on the following criteria:\n",
    "\n",
    "The applicant's credit score must be above 700.\n",
    "The applicant's monthly income must be at least $3000.\n",
    "The applicant's debt-to-income ratio must be below 40%.\n",
    "The applicant must be employed for at least 2 years.\n",
    "The applicant must be over 21 years of age.\n",
    "Write a for loop that checks if each loan applicant meets all the conditions for approval."
   ]
  },
  {
   "cell_type": "code",
   "execution_count": 6,
   "metadata": {},
   "outputs": [
    {
     "name": "stdout",
     "output_type": "stream",
     "text": [
      "john has met all the conditions to be approved for a loan\n",
      "obi has not met all the condition\n",
      "drake has not met all the condition\n",
      "charles has not met all the condition\n"
     ]
    }
   ],
   "source": [
    "\n",
    "Applicant = {\n",
    "    'john': {\n",
    "        'credit score': 750,\n",
    "        'income': 3000,\n",
    "        'debt': 35,\n",
    "        'employment year': 3,\n",
    "        'age': 22},\n",
    "    'obi':{\n",
    "        'credit score': 600,\n",
    "        'income': 2000,\n",
    "        'debt': 0,\n",
    "        'employment year': 9,\n",
    "        'age': 27},\n",
    "    'drake':{\n",
    "        'credit score': 3500,\n",
    "        'income': 300,\n",
    "        'debt': 0,\n",
    "        'employment year': 10,\n",
    "        'age': 22},\n",
    "    'charles':{\n",
    "        'credit score': 3.5,\n",
    "        'income': 3,\n",
    "        'debt': 0,\n",
    "        'employment year': 90,\n",
    "        'age': 22},\n",
    "}\n",
    "\n",
    "for member in Applicant:\n",
    "    if Applicant[member]['credit score'] >= 700 and Applicant[member]['income'] >= 3000 and Applicant[member]['debt'] <= 40 and Applicant[member]['employment year'] >= 2 and Applicant[member]['age'] >= 21:\n",
    "        print(f'{member} has met all the conditions to be approved for a loan')\n",
    "    else:\n",
    "        print(f'{member} has not met all the condition')"
   ]
  },
  {
   "cell_type": "markdown",
   "metadata": {},
   "source": [
    "\n",
    "Scenario 5: Categorizing Internet Speed Plans\n",
    "Problem: An Internet service provider offers various speed plans based on these conditions:\n",
    "\n",
    "Plan A: Speed >= 100 Mbps and Cost <= $50.\n",
    "Plan B: Speed >= 50 Mbps and Cost <= $40.\n",
    "Plan C: Speed >= 25 Mbps and Cost <= $30.\n",
    "Plan D: Speed >= 10 Mbps and Cost <= $20.\n",
    "Plan E: Speed < 10 Mbps.\n",
    "Write a for loop that categorizes different users into these plans based on their subscribed speed and cost."
   ]
  },
  {
   "cell_type": "code",
   "execution_count": 7,
   "metadata": {},
   "outputs": [
    {
     "name": "stdout",
     "output_type": "stream",
     "text": [
      "Plan A\n",
      "Plan B\n",
      "Plan C\n",
      "Plan D\n",
      "Plan E\n"
     ]
    }
   ],
   "source": [
    "customer = {\n",
    "    'individual 1':{\n",
    "    'speed': 110,\n",
    "    'cost': 49\n",
    "    },\n",
    "    'individual 2':{\n",
    "        'speed': 50,\n",
    "        'cost': 35\n",
    "    },\n",
    "    'individual 3':{\n",
    "        'speed': 27,\n",
    "        'cost': 29\n",
    "    },\n",
    "    'individual 4':{\n",
    "        'speed': 10,\n",
    "        'cost': 14\n",
    "    },\n",
    "    'individual 5':{\n",
    "        'speed': 4,\n",
    "        'cost': 1\n",
    "    }\n",
    "}\n",
    "\n",
    "for user in customer:\n",
    "    if customer[user]['speed'] >= 100 and customer[user]['cost'] <= 50:\n",
    "        print('Plan A')\n",
    "    elif customer[user]['speed'] >= 50 and customer[user]['cost'] <= 40:\n",
    "        print('Plan B')\n",
    "    elif customer[user]['speed'] >= 25 and customer[user]['cost'] <= 30:\n",
    "        print('Plan C')\n",
    "    elif customer[user]['speed'] >= 10 and customer[user]['cost'] <= 20:\n",
    "        print('Plan D')\n",
    "    elif customer[user]['speed'] < 10:\n",
    "        print('Plan E')\n",
    "\n"
   ]
  }
 ],
 "metadata": {
  "kernelspec": {
   "display_name": "Python 3",
   "language": "python",
   "name": "python3"
  },
  "language_info": {
   "codemirror_mode": {
    "name": "ipython",
    "version": 3
   },
   "file_extension": ".py",
   "mimetype": "text/x-python",
   "name": "python",
   "nbconvert_exporter": "python",
   "pygments_lexer": "ipython3",
   "version": "3.12.5"
  }
 },
 "nbformat": 4,
 "nbformat_minor": 2
}
