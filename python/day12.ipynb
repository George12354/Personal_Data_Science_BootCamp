{
 "cells": [
  {
   "cell_type": "code",
   "execution_count": 28,
   "metadata": {},
   "outputs": [],
   "source": [
    "# Task: to create a program that will do the following \n",
    "# Enable user to deposit money \n",
    "# Enable user to transfer money \n",
    "# Enable user to do paybills\n",
    "# Enable user to check balance \n",
    "\n",
    "class miniapp:\n",
    "    def __init__(self):\n",
    "        self.balance = 0\n",
    "\n",
    "    def deposit(self):\n",
    "        amount = float(input('Enter deposit amount:'))\n",
    "        self.balance = self.balance + amount\n",
    "        print('Transaction Successful !!!!!!!!!!')\n",
    "    def transfer(self):\n",
    "        amount = float(input('Enter Transfer amount:'))\n",
    "        if amount > self.balance or amount == 0:\n",
    "            print('Insufficient funds or zero amount')\n",
    "        else:\n",
    "            accountNumber = input('Enter Account number')\n",
    "            bank = input('Enter Destination bank')\n",
    "            self.balance = self.balance - amount\n",
    "            print('Transaction Successful!!!!!!!')\n",
    "    def paybills(self):\n",
    "        amount = input('Enter bills Types[Internet/Airtime/Prepaid/dstv]')\n",
    "        self.balance = self.balance - amount \n",
    "        print('bill payment Successful !!!!!!!')\n",
    "    def check_balance(self):\n",
    "        print(f'Available Balance is {self.balance}')\n",
    "program= miniapp()"
   ]
  },
  {
   "cell_type": "code",
   "execution_count": 17,
   "metadata": {},
   "outputs": [
    {
     "name": "stdout",
     "output_type": "stream",
     "text": [
      "Transaction Successful !!!!!!!!!!\n"
     ]
    }
   ],
   "source": [
    "program.deposit()"
   ]
  },
  {
   "cell_type": "code",
   "execution_count": 21,
   "metadata": {},
   "outputs": [
    {
     "name": "stdout",
     "output_type": "stream",
     "text": [
      "Available Balance is 56977.0\n"
     ]
    }
   ],
   "source": [
    "program.check_balance()"
   ]
  },
  {
   "cell_type": "code",
   "execution_count": 30,
   "metadata": {},
   "outputs": [
    {
     "name": "stdout",
     "output_type": "stream",
     "text": [
      "Transaction Successful !!!!!!!!!!\n",
      "Available Balance is 500000.0\n",
      "login out of the system!!!!!!!\n"
     ]
    }
   ],
   "source": [
    "class miniapp:\n",
    "    def __init__(self):\n",
    "        self.balance = 0\n",
    "\n",
    "    def deposit(self):\n",
    "        amount = float(input('Enter deposit amount:'))\n",
    "        self.balance = self.balance + amount\n",
    "        print('Transaction Successful !!!!!!!!!!')\n",
    "    def transfer(self):\n",
    "        amount = float(input('Enter Transfer amount:'))\n",
    "        if amount > self.balance or amount == 0:\n",
    "            print('Insufficient funds or zero amount')\n",
    "        else:\n",
    "            accountNumber = input('Enter Account number')\n",
    "            bank = input('Enter Destination bank')\n",
    "            self.balance = self.balance - amount\n",
    "            print('Transaction Successful!!!!!!!')\n",
    "    def paybills(self):\n",
    "        amount = input('Enter bills Types[Internet/Airtime/Prepaid/dstv]')\n",
    "        self.balance = self.balance - amount \n",
    "        print('bill payment Successful !!!!!!!')\n",
    "    def check_balance(self):\n",
    "        print(f'Available Balance is {self.balance}')\n",
    "program= miniapp()\n",
    "\n",
    "operation = True\n",
    "while operation:\n",
    "    option = input('Choose operation option [deposit, transfer, bill_payment, check_balance, logout]').lower()\n",
    "    if option == 'deposit':\n",
    "        program.deposit()\n",
    "    elif option == 'transfer':\n",
    "        program.transfer()\n",
    "    elif option == 'bill_payment':\n",
    "        program.bill_payment()\n",
    "    elif option == 'check_balance':\n",
    "        program.check_balance()\n",
    "    elif option == 'logout':\n",
    "        operation = False\n",
    "        print('login out of the system!!!!!!!')"
   ]
  },
  {
   "cell_type": "code",
   "execution_count": null,
   "metadata": {},
   "outputs": [],
   "source": []
  }
 ],
 "metadata": {
  "kernelspec": {
   "display_name": "Python 3",
   "language": "python",
   "name": "python3"
  },
  "language_info": {
   "codemirror_mode": {
    "name": "ipython",
    "version": 3
   },
   "file_extension": ".py",
   "mimetype": "text/x-python",
   "name": "python",
   "nbconvert_exporter": "python",
   "pygments_lexer": "ipython3",
   "version": "3.12.4"
  }
 },
 "nbformat": 4,
 "nbformat_minor": 2
}
