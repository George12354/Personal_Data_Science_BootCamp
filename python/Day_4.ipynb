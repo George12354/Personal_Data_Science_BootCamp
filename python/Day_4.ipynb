{
 "cells": [
  {
   "cell_type": "code",
   "execution_count": 20,
   "metadata": {},
   "outputs": [
    {
     "name": "stdout",
     "output_type": "stream",
     "text": [
      "<class 'tuple'>\n"
     ]
    }
   ],
   "source": [
    "#Tuple\n",
    "number = (2,4,64,64,21, 7,9)\n",
    "print(type(number))"
   ]
  },
  {
   "cell_type": "code",
   "execution_count": 21,
   "metadata": {},
   "outputs": [
    {
     "name": "stdout",
     "output_type": "stream",
     "text": [
      "21\n",
      "9\n",
      "(4, 64, 64)\n",
      "(9, 7, 21, 64, 64, 4, 2)\n",
      "2\n",
      "1\n"
     ]
    }
   ],
   "source": [
    "#indexing\n",
    "print(number[4])\n",
    "print(number[-1])\n",
    "print(number[1:4])\n",
    "print(number[::-1])\n",
    "print(number.count(64))\n",
    "print(number.index(4)) #index function will search for the location of the provide"
   ]
  },
  {
   "cell_type": "code",
   "execution_count": 22,
   "metadata": {},
   "outputs": [
    {
     "name": "stdout",
     "output_type": "stream",
     "text": [
      "False\n"
     ]
    }
   ],
   "source": [
    "print(100 in number) "
   ]
  },
  {
   "cell_type": "code",
   "execution_count": 23,
   "metadata": {},
   "outputs": [
    {
     "name": "stdout",
     "output_type": "stream",
     "text": [
      "['Apple', 'Pear', 'Plate', 'Pen', 'Banana']\n"
     ]
    }
   ],
   "source": [
    "#list\n",
    "item = ['Apple', 'Pear', 'Plate', 'Pen']\n",
    "item.append('Banana')\n",
    "print(item)"
   ]
  },
  {
   "cell_type": "code",
   "execution_count": 24,
   "metadata": {},
   "outputs": [
    {
     "name": "stdout",
     "output_type": "stream",
     "text": [
      "['Apple', 'Pear', 'Plate', 'Pen', 'Pawpaw', 'Banana']\n"
     ]
    }
   ],
   "source": [
    "item.insert(4, 'Pawpaw')\n",
    "print(item)"
   ]
  },
  {
   "cell_type": "code",
   "execution_count": 25,
   "metadata": {},
   "outputs": [
    {
     "name": "stdout",
     "output_type": "stream",
     "text": [
      "['Apple', 'Pear', 'Plate', 'Pen', 'Pawpaw', 'Banana', 'manga', 'Strawberry', 'Apple']\n"
     ]
    }
   ],
   "source": [
    "item2 = ['manga', 'Strawberry','Apple']\n",
    "item.extend(item2)\n",
    "print(item)"
   ]
  },
  {
   "cell_type": "code",
   "execution_count": 26,
   "metadata": {},
   "outputs": [
    {
     "name": "stdout",
     "output_type": "stream",
     "text": [
      "['Apple', 'Pear', 'Plate', 'Pen', 'Banana', 'manga', 'Strawberry', 'Apple']\n"
     ]
    }
   ],
   "source": [
    "item.pop(4)\n",
    "print(item)"
   ]
  },
  {
   "cell_type": "code",
   "execution_count": 28,
   "metadata": {},
   "outputs": [
    {
     "name": "stdout",
     "output_type": "stream",
     "text": [
      "['Pear', 'Plate', 'Pen', 'Banana', 'manga', 'Strawberry']\n"
     ]
    }
   ],
   "source": [
    "item.remove('Apple')\n",
    "print(item)"
   ]
  },
  {
   "cell_type": "code",
   "execution_count": 30,
   "metadata": {},
   "outputs": [
    {
     "name": "stdout",
     "output_type": "stream",
     "text": [
      "['Banana', 'Pear', 'Pen', 'Plate', 'Strawberry', 'manga']\n",
      "['manga', 'Strawberry', 'Plate', 'Pen', 'Pear', 'Banana']\n"
     ]
    }
   ],
   "source": [
    "item.sort()\n",
    "print(item)\n",
    "\n",
    "item.reverse()\n",
    "print(item)"
   ]
  },
  {
   "cell_type": "code",
   "execution_count": 32,
   "metadata": {},
   "outputs": [
    {
     "name": "stdout",
     "output_type": "stream",
     "text": [
      "['manga', 'Strawberry', 'Plate', 'Pen', 'Pear', 'Banana']\n"
     ]
    }
   ],
   "source": [
    "item3 = item.copy()\n",
    "print(item)"
   ]
  },
  {
   "cell_type": "code",
   "execution_count": 34,
   "metadata": {},
   "outputs": [
    {
     "name": "stdout",
     "output_type": "stream",
     "text": [
      "[]\n"
     ]
    }
   ],
   "source": [
    "item3.clear()\n",
    "print(item3)"
   ]
  },
  {
   "cell_type": "code",
   "execution_count": null,
   "metadata": {},
   "outputs": [],
   "source": [
    "del(item3) #del will remove the entire variable"
   ]
  },
  {
   "cell_type": "code",
   "execution_count": 37,
   "metadata": {},
   "outputs": [
    {
     "name": "stdout",
     "output_type": "stream",
     "text": [
      "{'name': 'John', 'age': 40}\n"
     ]
    }
   ],
   "source": [
    "#Dictionary\n",
    "\n",
    "records = {\n",
    "    \"name\": \"John\",\n",
    "    \"age\": 40,\n",
    "}\n",
    "print(records)"
   ]
  },
  {
   "cell_type": "code",
   "execution_count": 39,
   "metadata": {},
   "outputs": [
    {
     "name": "stdout",
     "output_type": "stream",
     "text": [
      "40\n"
     ]
    }
   ],
   "source": [
    "print(records[\"age\"])"
   ]
  },
  {
   "cell_type": "code",
   "execution_count": 46,
   "metadata": {},
   "outputs": [
    {
     "data": {
      "text/plain": [
       "dict_keys(['name', 'age'])"
      ]
     },
     "execution_count": 46,
     "metadata": {},
     "output_type": "execute_result"
    }
   ],
   "source": [
    "records.keys()\n"
   ]
  },
  {
   "cell_type": "code",
   "execution_count": 48,
   "metadata": {},
   "outputs": [
    {
     "data": {
      "text/plain": [
       "dict_values(['John', 40])"
      ]
     },
     "execution_count": 48,
     "metadata": {},
     "output_type": "execute_result"
    }
   ],
   "source": [
    "records.values()"
   ]
  },
  {
   "cell_type": "code",
   "execution_count": 51,
   "metadata": {},
   "outputs": [
    {
     "data": {
      "text/plain": [
       "dict_items([('name', 'John'), ('age', 40)])"
      ]
     },
     "execution_count": 51,
     "metadata": {},
     "output_type": "execute_result"
    }
   ],
   "source": [
    "records.items()"
   ]
  },
  {
   "cell_type": "code",
   "execution_count": 53,
   "metadata": {},
   "outputs": [
    {
     "name": "stdout",
     "output_type": "stream",
     "text": [
      "{'name': 'John', 'age': 40, 'gender': 'male'}\n"
     ]
    }
   ],
   "source": [
    "records['gender'] = 'male'\n",
    "print(records)"
   ]
  },
  {
   "cell_type": "code",
   "execution_count": 55,
   "metadata": {},
   "outputs": [
    {
     "name": "stdout",
     "output_type": "stream",
     "text": [
      "{'name': 'John', 'age': 45, 'gender': 'male'}\n"
     ]
    }
   ],
   "source": [
    "records.update({'age': 45})\n",
    "print(records)"
   ]
  },
  {
   "cell_type": "code",
   "execution_count": 56,
   "metadata": {},
   "outputs": [
    {
     "name": "stdout",
     "output_type": "stream",
     "text": [
      "{'name': 'John', 'gender': 'male'}\n"
     ]
    }
   ],
   "source": [
    "records.pop('age') # pop will drop the specified key  and it value\n",
    "print(records)"
   ]
  },
  {
   "cell_type": "code",
   "execution_count": 57,
   "metadata": {},
   "outputs": [
    {
     "name": "stdout",
     "output_type": "stream",
     "text": [
      "{'name': 'John'}\n"
     ]
    }
   ],
   "source": [
    "records.popitem() # will drop the last pair of key and value in the dictionary\n",
    "print(records)"
   ]
  },
  {
   "cell_type": "code",
   "execution_count": 58,
   "metadata": {},
   "outputs": [
    {
     "name": "stdout",
     "output_type": "stream",
     "text": [
      "Bob\n",
      "53\n"
     ]
    }
   ],
   "source": [
    "details = {\n",
    "    'Name': ['Job', 'Bob', 'Praise'],\n",
    "    'Age': [25,53,64,7]\n",
    "}\n",
    "print(details['Name'][1])\n",
    "print(details['Age'][1])"
   ]
  }
 ],
 "metadata": {
  "kernelspec": {
   "display_name": "Python 3",
   "language": "python",
   "name": "python3"
  },
  "language_info": {
   "codemirror_mode": {
    "name": "ipython",
    "version": 3
   },
   "file_extension": ".py",
   "mimetype": "text/x-python",
   "name": "python",
   "nbconvert_exporter": "python",
   "pygments_lexer": "ipython3",
   "version": "3.12.5"
  }
 },
 "nbformat": 4,
 "nbformat_minor": 2
}
