{
 "cells": [
  {
   "cell_type": "markdown",
   "metadata": {},
   "source": [
    "1. Car Loan Repayment\n",
    "You took a car loan of 3,600,000 Naira at an interest rate of 8% per year. The loan term is 4 years. Calculate:\n",
    "\n",
    "The total interest to be paid over the loan term.\n",
    "The total amount to be repaid (principal + interest).\n",
    "The monthly installment if the total repayment is spread equally over the 4 years."
   ]
  },
  {
   "cell_type": "code",
   "execution_count": 4,
   "metadata": {},
   "outputs": [
    {
     "name": "stdout",
     "output_type": "stream",
     "text": [
      "Total interes: 1152000.0\n",
      "Total amount to be repaid: 4752000.0\n",
      " Monthly imstallment: 99000.0 \n"
     ]
    }
   ],
   "source": [
    "principal = 3600000\n",
    "interest_rate = 0.08\n",
    "term = 4\n",
    "total_interest = principal * interest_rate * term\n",
    "total_amount_repaid = principal + total_interest\n",
    "monthly_installment = total_amount_repaid / (term * 12)\n",
    "print(f\"Total interes: {total_interest}\")\n",
    "print(f\"Total amount to be repaid: {total_amount_repaid}\")\n",
    "print(f\" Monthly imstallment: {monthly_installment} \")"
   ]
  },
  {
   "cell_type": "markdown",
   "metadata": {},
   "source": [
    "2. Garden Area Calculation\n",
    "You have a rectangular garden that is 12 meters long and 8 meters wide. You want to add a square flower bed with each side measuring 3 meters in one corner of the garden. Calculate:\n",
    "\n",
    "The area of the entire garden.\n",
    "The area of the flower bed.\n",
    "The remaining area of the garden after the flower bed is added."
   ]
  },
  {
   "cell_type": "code",
   "execution_count": 5,
   "metadata": {},
   "outputs": [
    {
     "name": "stdout",
     "output_type": "stream",
     "text": [
      "Area of the entire garden: 96\n",
      "Area of the flower bed: 9\n",
      "Remaining area after the flower bed is added: 87 \n"
     ]
    }
   ],
   "source": [
    "length = 12\n",
    "width = 8\n",
    "flower_length_width = 3\n",
    "\n",
    "area = length * width\n",
    "flower_area = flower_length_width * flower_length_width\n",
    "remaining_area = area - flower_area\n",
    "\n",
    "print(f\"Area of the entire garden: {area}\")\n",
    "print(f\"Area of the flower bed: {flower_area}\")\n",
    "print(f\"Remaining area after the flower bed is added: {remaining_area} \")"
   ]
  },
  {
   "cell_type": "markdown",
   "metadata": {},
   "source": [
    "3. Cooking Recipe Conversion\n",
    "You are baking a cake that requires the following ingredients:\n",
    "\n",
    "Flour: 500 grams\n",
    "Sugar: 300 grams\n",
    "Butter: 200 grams The recipe makes a cake that serves 4 people, but you want to make a cake that serves 6 people. Calculate:\n",
    "The amount of flour needed.\n",
    "The amount of sugar needed.\n",
    "The amount of butter needed. Use multiplication to scale the ingredients up to serve 6 people."
   ]
  },
  {
   "cell_type": "code",
   "execution_count": 8,
   "metadata": {},
   "outputs": [
    {
     "name": "stdout",
     "output_type": "stream",
     "text": [
      "The amount of flour needed: 750.0\n",
      "The amount of sugar needed: 450.0\n",
      "The amount of butter needed: 300.0\n"
     ]
    }
   ],
   "source": [
    "flour = 500\n",
    "sugar: 300 \n",
    "butter = 200\n",
    "flour_for_6 = (flour / 4)*6\n",
    "sugar_for_6 = (sugar / 4)*6\n",
    "butter_for_6 = (butter / 4)*6\n",
    "print(f\"The amount of flour needed: {flour_for_6}\")\n",
    "print(f\"The amount of sugar needed: {sugar_for_6}\")\n",
    "print(f\"The amount of butter needed: {butter_for_6}\")"
   ]
  },
  {
   "cell_type": "markdown",
   "metadata": {},
   "source": [
    "4. Electricity Bill Calculation\n",
    "You consume 500 kWh of electricity per month. The electricity company charges:\n",
    "\n",
    "50 Naira per kWh for the first 200 kWh.\n",
    "75 Naira per kWh for the next 200 kWh.\n",
    "100 Naira per kWh for any additional usage above 400 kWh. Calculate:\n",
    "The total cost of electricity for the first 200 kWh.\n",
    "The total cost for the next 200 kWh.\n",
    "The total cost for the remaining electricity consumption.\n",
    "The total electricity bill."
   ]
  },
  {
   "cell_type": "code",
   "execution_count": null,
   "metadata": {},
   "outputs": [],
   "source": [
    "consume = 500\n",
    "\n",
    "first_200_kwh = 50*200\n",
    "next_200_kwh = 75*200\n",
    "remaining_kwh = (consume - 400)*100\n",
    "total_bill = first_200_kwh + next_200_kwh + remaining_kwh\n",
    "\n",
    "print(f\"Total cost of electricity for the first 200 kWh: {first_200_kwh}\")\n",
    "print(f\"Total cost for the next 200 kWh: {next_200_kwh}\")\n",
    "print(f\"The total cost for the remaining electricity: {remaining_kwh}\")\n",
    "print(f\"The total electricity bill: {total_bill}\")"
   ]
  },
  {
   "cell_type": "markdown",
   "metadata": {},
   "source": [
    "5. Travel Time Calculation\n",
    "You are planning a road trip from Lagos to Abuja, which is 760 kilometers. Your car’s average speed is 95 kilometers per hour. You plan to take a 30-minute break after every 200 kilometers. Calculate:\n",
    "\n",
    "The total travel time without breaks.\n",
    "The number of breaks needed.\n",
    "The total time including breaks (convert to hours and minutes)."
   ]
  },
  {
   "cell_type": "code",
   "execution_count": null,
   "metadata": {},
   "outputs": [],
   "source": [
    "Distance = 760\n",
    "Speed = 95\n",
    "Break_time = 30\n",
    "Interval_distance = 200\n",
    "\n",
    "Total_travel_time_without_break = (760/95)*60\n",
    "print(f\"Total travel time without brraks: {Total_travel_time_without_break}\")\n",
    "\n",
    "Intervals = 760/200 == 3.8\n",
    "Breaks_needed = 3 * 30 = 90\n",
    "print(f\"Breaks needed: {Breaks_needed}\")\n",
    "\n",
    "\n",
    "Total_time = Total_travel_time_without_break * Breaks_needed\n",
    "print(f\"Total time = {Total_time}min\")\n"
   ]
  }
 ],
 "metadata": {
  "kernelspec": {
   "display_name": "Python 3",
   "language": "python",
   "name": "python3"
  },
  "language_info": {
   "codemirror_mode": {
    "name": "ipython",
    "version": 3
   },
   "file_extension": ".py",
   "mimetype": "text/x-python",
   "name": "python",
   "nbconvert_exporter": "python",
   "pygments_lexer": "ipython3",
   "version": "3.12.5"
  }
 },
 "nbformat": 4,
 "nbformat_minor": 2
}
