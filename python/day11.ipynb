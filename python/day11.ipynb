version https://git-lfs.github.com/spec/v1
oid sha256:e3f1edaf65ef1cec6f6e552ac3bfb219d4f653335ba9b485217c785e7cb1c41e
size 6851
