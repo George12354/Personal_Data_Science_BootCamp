{
 "cells": [
  {
   "cell_type": "code",
   "execution_count": 1,
   "metadata": {},
   "outputs": [],
   "source": [
    "# class, object, self, _init_, attributes, methods "
   ]
  },
  {
   "cell_type": "code",
   "execution_count": 2,
   "metadata": {},
   "outputs": [],
   "source": [
    "class person:\n",
    "    name = 'John'\n",
    "    age = 65\n",
    "ob = person()"
   ]
  },
  {
   "cell_type": "code",
   "execution_count": 3,
   "metadata": {},
   "outputs": [
    {
     "data": {
      "text/plain": [
       "'John'"
      ]
     },
     "execution_count": 3,
     "metadata": {},
     "output_type": "execute_result"
    }
   ],
   "source": [
    "ob.name"
   ]
  },
  {
   "cell_type": "code",
   "execution_count": 4,
   "metadata": {},
   "outputs": [
    {
     "data": {
      "text/plain": [
       "65"
      ]
     },
     "execution_count": 4,
     "metadata": {},
     "output_type": "execute_result"
    }
   ],
   "source": [
    "ob.age"
   ]
  },
  {
   "cell_type": "code",
   "execution_count": 5,
   "metadata": {},
   "outputs": [],
   "source": [
    "class person:\n",
    "    name = 'John'\n",
    "    age = 65\n",
    "\n",
    "    def display(self):\n",
    "        print(f'person name is {self.name}')\n",
    "        print(f'person age is {self.age}')\n",
    "ob = person()"
   ]
  },
  {
   "cell_type": "code",
   "execution_count": 6,
   "metadata": {},
   "outputs": [
    {
     "name": "stdout",
     "output_type": "stream",
     "text": [
      "person name is John\n",
      "person age is 65\n"
     ]
    }
   ],
   "source": [
    "ob.display()"
   ]
  },
  {
   "cell_type": "code",
   "execution_count": 9,
   "metadata": {},
   "outputs": [],
   "source": [
    "class calculator:\n",
    "    def __init__(self):\n",
    "        self.result=0\n",
    "\n",
    "    def add(self):\n",
    "        num1 = int(input('Enter number one value:'))\n",
    "        num2 = int(input('Enter number two value:'))\n",
    "        self.result = num1 + num2\n",
    "        return f'the result is {self.result}'\n",
    "    \n",
    "    def subtract(self):\n",
    "        num1 = int(input('Enter number one value:'))\n",
    "        num2 = int(input('Enter number two value:'))\n",
    "        self.result = num1 - num2\n",
    "        return f'the result is {self.result}'\n",
    "    \n",
    "    def multiply (self):\n",
    "        num1 = int(input('Enter number one value:'))\n",
    "        num2 = int(input('Enter number two value:'))\n",
    "        self.result = num1 * num2\n",
    "        return f'the result is {self.result}'\n",
    "    \n",
    "    def divide (self):\n",
    "        num1 = int(input('Enter number one value:'))\n",
    "        num2 = int(input('Enter number two value:'))\n",
    "        self.result = num1 / num2\n",
    "        return f'the result is {self.result}'\n",
    "program = calculator()"
   ]
  },
  {
   "cell_type": "code",
   "execution_count": 10,
   "metadata": {},
   "outputs": [
    {
     "data": {
      "text/plain": [
       "'the result is 552'"
      ]
     },
     "execution_count": 10,
     "metadata": {},
     "output_type": "execute_result"
    }
   ],
   "source": [
    "program.multiply()"
   ]
  },
  {
   "cell_type": "code",
   "execution_count": 30,
   "metadata": {},
   "outputs": [],
   "source": [
    "# Exercise\n",
    "# create a class called simulation with the following attributes (brand, model, color, year, speed) and has the following methods (start, change_gear, stop)\n",
    "# Note the method must be structured \n",
    "class similution:\n",
    "    brand = 'toyota'\n",
    "    model = 'zfold'\n",
    "    year = 2024\n",
    "    speed = 240\n",
    "\n",
    "    def display(move):\n",
    "        print(f'car {move.brand}')\n",
    "        print(f'car {move.model}')\n",
    "        print(f'car {move.year}')\n",
    "        print(f'car {move.speed}')\n",
    "ob = car()\n",
    "    \n",
    "    "
   ]
  },
  {
   "cell_type": "code",
   "execution_count": 31,
   "metadata": {},
   "outputs": [
    {
     "name": "stdout",
     "output_type": "stream",
     "text": [
      "car toyota\n",
      "car zfold\n",
      "car 2024\n",
      "car 240\n"
     ]
    }
   ],
   "source": [
    "ob.display()"
   ]
  },
  {
   "cell_type": "code",
   "execution_count": 34,
   "metadata": {},
   "outputs": [
    {
     "ename": "TypeError",
     "evalue": "start() missing 1 required positional argument: 'self'",
     "output_type": "error",
     "traceback": [
      "\u001b[1;31m---------------------------------------------------------------------------\u001b[0m",
      "\u001b[1;31mTypeError\u001b[0m                                 Traceback (most recent call last)",
      "Cell \u001b[1;32mIn[34], line 21\u001b[0m\n\u001b[0;32m     19\u001b[0m \u001b[38;5;28;01mdef\u001b[39;00m \u001b[38;5;21mstop\u001b[39m(\u001b[38;5;28mself\u001b[39m):\n\u001b[0;32m     20\u001b[0m     \u001b[38;5;28;01mreturn\u001b[39;00m \u001b[38;5;124mf\u001b[39m\u001b[38;5;124m'\u001b[39m\u001b[38;5;124mwhen the traffic light turns red\u001b[39m\u001b[38;5;124m'\u001b[39m\n\u001b[1;32m---> 21\u001b[0m program \u001b[38;5;241m=\u001b[39m \u001b[43mstart\u001b[49m\u001b[43m(\u001b[49m\u001b[43m)\u001b[49m\n",
      "\u001b[1;31mTypeError\u001b[0m: start() missing 1 required positional argument: 'self'"
     ]
    }
   ],
   "source": [
    "def start(self):\n",
    "    return f'when the traffic light turns green'\n",
    "\n",
    "def change_gear(self):\n",
    "    gears = int(input('enter gear you place your car:'))\n",
    "    if gears == 1:\n",
    "        return f'going through highway switch to gear two'\n",
    "    elif gears == 2:\n",
    "        return f'when turning you can switch to gear four'\n",
    "    elif gears == 3:\n",
    "        return f'when going through a bump switch to gear five'\n",
    "    elif gears == 4:\n",
    "        return f'slowing down you can switch to gear one'\n",
    "    elif gears == 5:\n",
    "        return f'holding brake switched to gear three'\n",
    "    else:\n",
    "        return f'return the gear six, want to reverse'\n",
    "    \n",
    "def stop(self):\n",
    "    return f'when the traffic light turns red'\n",
    "program = start()"
   ]
  },
  {
   "cell_type": "code",
   "execution_count": null,
   "metadata": {},
   "outputs": [],
   "source": []
  }
 ],
 "metadata": {
  "kernelspec": {
   "display_name": "Python 3",
   "language": "python",
   "name": "python3"
  },
  "language_info": {
   "codemirror_mode": {
    "name": "ipython",
    "version": 3
   },
   "file_extension": ".py",
   "mimetype": "text/x-python",
   "name": "python",
   "nbconvert_exporter": "python",
   "pygments_lexer": "ipython3",
   "version": "3.12.4"
  }
 },
 "nbformat": 4,
 "nbformat_minor": 2
}
