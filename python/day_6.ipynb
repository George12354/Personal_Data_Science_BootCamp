{
 "cells": [
  {
   "cell_type": "code",
   "execution_count": 1,
   "metadata": {},
   "outputs": [],
   "source": [
    "#LOOPS [for loop and while loop]"
   ]
  },
  {
   "cell_type": "code",
   "execution_count": 3,
   "metadata": {},
   "outputs": [
    {
     "name": "stdout",
     "output_type": "stream",
     "text": [
      "ppp yyy ttt hhh ooo nnn "
     ]
    }
   ],
   "source": [
    "#for loop [string, list, tuple, dictionary]\n",
    "word = 'python'\n",
    "for y in word:\n",
    "    print(y *3, end=\" \")"
   ]
  },
  {
   "cell_type": "code",
   "execution_count": 7,
   "metadata": {},
   "outputs": [
    {
     "name": "stdout",
     "output_type": "stream",
     "text": [
      "The total score is 196\n",
      "The Average score is 39.2\n",
      "The Average score is 39.2\n"
     ]
    }
   ],
   "source": [
    "score = [32,35,56,68,5]\n",
    "total = 0 \n",
    "average = 0\n",
    "for i in score:\n",
    "    total = total + i\n",
    "    average = sum(score)/len(score)\n",
    "avg = total/len(score)\n",
    "print(f'The total score is {total}')\n",
    "print(f'The Average score is {average}')\n",
    "print(f'The Average score is {avg}')"
   ]
  },
  {
   "cell_type": "code",
   "execution_count": 9,
   "metadata": {},
   "outputs": [
    {
     "name": "stdout",
     "output_type": "stream",
     "text": [
      "Number of students who passed is 4\n"
     ]
    }
   ],
   "source": [
    "#Counting the Number of students passing a Test\n",
    "#Problems: A teacher wants to count how many students passed a test. \n",
    "# Students pass if their score is greater than or equal to 50. \n",
    "# The teacher has a list of scores and wants to use a loop to count the number of passing students.\n",
    "student_score = [43,57,46,85,34,87,32,50,3]\n",
    "pass_count = 0\n",
    "for score in student_score:\n",
    "    if score >= 50:\n",
    "        pass_count = pass_count + 1\n",
    "print(f'Number of students who passed is {pass_count}')"
   ]
  },
  {
   "cell_type": "code",
   "execution_count": 18,
   "metadata": {},
   "outputs": [
    {
     "name": "stdout",
     "output_type": "stream",
     "text": [
      "Number of students who passed is 2\n",
      "Number of students who passed is 0\n",
      "Number of students who passed is 2\n",
      "Number of students who passed is 2\n",
      "Number of students who passed is 2\n",
      "Number of students who passed is 0\n"
     ]
    }
   ],
   "source": [
    "student_score = [43,57,46,85,34,87,32,50,3]\n",
    "pass_count_A = 0\n",
    "pass_count_B = 0\n",
    "pass_count_C = 0\n",
    "pass_count_D = 0\n",
    "pass_count_E = 0\n",
    "pass_count_F = 0\n",
    "for score in student_score:\n",
    "    if score >= 70 and score <= 100:\n",
    "        pass_count_A += 1\n",
    "    elif score >= 60 and score <= 69.99:\n",
    "        pass_count_B +=1\n",
    "    elif score >= 50 and score <= 59.99:\n",
    "        pass_count_C +=1\n",
    "    elif score >= 40 and score <= 49.99:\n",
    "        pass_count_D +=1\n",
    "    elif score >= 30 and score <= 39.99:\n",
    "        pass_count_E +=1\n",
    "    elif score >= 20 and score <= 29.99:\n",
    "        pass_count_E +=1    \n",
    "print(f'Number of students who passed is {pass_count_A}')\n",
    "print(f'Number of students who passed is {pass_count_B}')\n",
    "print(f'Number of students who passed is {pass_count_C}')\n",
    "print(f'Number of students who passed is {pass_count_D}')\n",
    "print(f'Number of students who passed is {pass_count_E}')\n",
    "print(f'Number of students who passed is {pass_count_F}')\n"
   ]
  }
 ],
 "metadata": {
  "kernelspec": {
   "display_name": "Python 3",
   "language": "python",
   "name": "python3"
  },
  "language_info": {
   "codemirror_mode": {
    "name": "ipython",
    "version": 3
   },
   "file_extension": ".py",
   "mimetype": "text/x-python",
   "name": "python",
   "nbconvert_exporter": "python",
   "pygments_lexer": "ipython3",
   "version": "3.12.5"
  }
 },
 "nbformat": 4,
 "nbformat_minor": 2
}
