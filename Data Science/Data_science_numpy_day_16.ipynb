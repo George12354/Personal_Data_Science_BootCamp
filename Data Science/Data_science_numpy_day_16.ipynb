{
 "cells": [
  {
   "cell_type": "code",
   "execution_count": 1,
   "metadata": {},
   "outputs": [],
   "source": [
    "#numpy : numerical python\n",
    "import numpy as np\n"
   ]
  },
  {
   "cell_type": "code",
   "execution_count": 2,
   "metadata": {},
   "outputs": [
    {
     "name": "stdout",
     "output_type": "stream",
     "text": [
      "[54 65 98 78]\n"
     ]
    }
   ],
   "source": [
    "# create an object class\n",
    "arr1 = np.array([54, 65,98,78])\n",
    "print(arr1)"
   ]
  },
  {
   "cell_type": "code",
   "execution_count": null,
   "metadata": {},
   "outputs": [],
   "source": [
    "# To check the dimension of an array\n",
    "arr1.ndim"
   ]
  },
  {
   "cell_type": "code",
   "execution_count": 4,
   "metadata": {},
   "outputs": [
    {
     "data": {
      "text/plain": [
       "(4,)"
      ]
     },
     "execution_count": 4,
     "metadata": {},
     "output_type": "execute_result"
    }
   ],
   "source": [
    "# To check the shape\n",
    "arr1.shape"
   ]
  },
  {
   "cell_type": "code",
   "execution_count": 5,
   "metadata": {},
   "outputs": [
    {
     "data": {
      "text/plain": [
       "dtype('int64')"
      ]
     },
     "execution_count": 5,
     "metadata": {},
     "output_type": "execute_result"
    }
   ],
   "source": [
    "# To know the data type\n",
    "arr1.dtype"
   ]
  },
  {
   "cell_type": "code",
   "execution_count": 7,
   "metadata": {},
   "outputs": [
    {
     "name": "stdout",
     "output_type": "stream",
     "text": [
      "[[78 95 96 32]\n",
      " [45 65 32 14]]\n"
     ]
    },
    {
     "data": {
      "text/plain": [
       "dtype('int64')"
      ]
     },
     "execution_count": 7,
     "metadata": {},
     "output_type": "execute_result"
    }
   ],
   "source": [
    "arr2 = np.array([[78,95,96,32], [45,65,32,14]])\n",
    "print(arr2)"
   ]
  },
  {
   "cell_type": "code",
   "execution_count": 8,
   "metadata": {},
   "outputs": [
    {
     "data": {
      "text/plain": [
       "2"
      ]
     },
     "execution_count": 8,
     "metadata": {},
     "output_type": "execute_result"
    }
   ],
   "source": [
    "arr2.ndim\n",
    "\n"
   ]
  },
  {
   "cell_type": "code",
   "execution_count": 9,
   "metadata": {},
   "outputs": [
    {
     "data": {
      "text/plain": [
       "(2, 4)"
      ]
     },
     "execution_count": 9,
     "metadata": {},
     "output_type": "execute_result"
    }
   ],
   "source": [
    "arr2.shape"
   ]
  },
  {
   "cell_type": "code",
   "execution_count": 10,
   "metadata": {},
   "outputs": [
    {
     "data": {
      "text/plain": [
       "dtype('int64')"
      ]
     },
     "execution_count": 10,
     "metadata": {},
     "output_type": "execute_result"
    }
   ],
   "source": [
    "arr2.dtype"
   ]
  },
  {
   "cell_type": "code",
   "execution_count": 11,
   "metadata": {},
   "outputs": [
    {
     "data": {
      "text/plain": [
       "array([ 15.        ,  17.75510204,  20.51020408,  23.26530612,\n",
       "        26.02040816,  28.7755102 ,  31.53061224,  34.28571429,\n",
       "        37.04081633,  39.79591837,  42.55102041,  45.30612245,\n",
       "        48.06122449,  50.81632653,  53.57142857,  56.32653061,\n",
       "        59.08163265,  61.83673469,  64.59183673,  67.34693878,\n",
       "        70.10204082,  72.85714286,  75.6122449 ,  78.36734694,\n",
       "        81.12244898,  83.87755102,  86.63265306,  89.3877551 ,\n",
       "        92.14285714,  94.89795918,  97.65306122, 100.40816327,\n",
       "       103.16326531, 105.91836735, 108.67346939, 111.42857143,\n",
       "       114.18367347, 116.93877551, 119.69387755, 122.44897959,\n",
       "       125.20408163, 127.95918367, 130.71428571, 133.46938776,\n",
       "       136.2244898 , 138.97959184, 141.73469388, 144.48979592,\n",
       "       147.24489796, 150.        ])"
      ]
     },
     "execution_count": 11,
     "metadata": {},
     "output_type": "execute_result"
    }
   ],
   "source": [
    "np.linspace(15, 150)"
   ]
  },
  {
   "cell_type": "code",
   "execution_count": 13,
   "metadata": {},
   "outputs": [
    {
     "data": {
      "text/plain": [
       "array([ 15.        ,  22.10526316,  29.21052632,  36.31578947,\n",
       "        43.42105263,  50.52631579,  57.63157895,  64.73684211,\n",
       "        71.84210526,  78.94736842,  86.05263158,  93.15789474,\n",
       "       100.26315789, 107.36842105, 114.47368421, 121.57894737,\n",
       "       128.68421053, 135.78947368, 142.89473684, 150.        ])"
      ]
     },
     "execution_count": 13,
     "metadata": {},
     "output_type": "execute_result"
    }
   ],
   "source": [
    "np.linspace(15, 150, 20)"
   ]
  },
  {
   "cell_type": "code",
   "execution_count": 14,
   "metadata": {},
   "outputs": [
    {
     "data": {
      "text/plain": [
       "array([0., 0., 0., 0., 0., 0., 0., 0., 0., 0.])"
      ]
     },
     "execution_count": 14,
     "metadata": {},
     "output_type": "execute_result"
    }
   ],
   "source": [
    "np.zeros(10)"
   ]
  },
  {
   "cell_type": "code",
   "execution_count": 17,
   "metadata": {},
   "outputs": [
    {
     "data": {
      "text/plain": [
       "array([[0, 0, 0, 0, 0],\n",
       "       [0, 0, 0, 0, 0],\n",
       "       [0, 0, 0, 0, 0],\n",
       "       [0, 0, 0, 0, 0]])"
      ]
     },
     "execution_count": 17,
     "metadata": {},
     "output_type": "execute_result"
    }
   ],
   "source": [
    "np.zeros((4,5), dtype='int')"
   ]
  },
  {
   "cell_type": "code",
   "execution_count": 18,
   "metadata": {},
   "outputs": [
    {
     "data": {
      "text/plain": [
       "array([1., 1., 1., 1., 1., 1., 1., 1., 1., 1., 1., 1., 1., 1., 1., 1., 1.,\n",
       "       1., 1., 1.])"
      ]
     },
     "execution_count": 18,
     "metadata": {},
     "output_type": "execute_result"
    }
   ],
   "source": [
    "np.ones(20)"
   ]
  },
  {
   "cell_type": "code",
   "execution_count": 19,
   "metadata": {},
   "outputs": [
    {
     "data": {
      "text/plain": [
       "array([[1., 1., 1., 1., 1.],\n",
       "       [1., 1., 1., 1., 1.],\n",
       "       [1., 1., 1., 1., 1.],\n",
       "       [1., 1., 1., 1., 1.],\n",
       "       [1., 1., 1., 1., 1.]])"
      ]
     },
     "execution_count": 19,
     "metadata": {},
     "output_type": "execute_result"
    }
   ],
   "source": [
    "np.ones((5,5))"
   ]
  },
  {
   "cell_type": "code",
   "execution_count": 20,
   "metadata": {},
   "outputs": [
    {
     "data": {
      "text/plain": [
       "array([[1., 0., 0., 0., 0., 0.],\n",
       "       [0., 1., 0., 0., 0., 0.],\n",
       "       [0., 0., 1., 0., 0., 0.],\n",
       "       [0., 0., 0., 1., 0., 0.],\n",
       "       [0., 0., 0., 0., 1., 0.],\n",
       "       [0., 0., 0., 0., 0., 1.]])"
      ]
     },
     "execution_count": 20,
     "metadata": {},
     "output_type": "execute_result"
    }
   ],
   "source": [
    "np.eye(6)"
   ]
  },
  {
   "cell_type": "code",
   "execution_count": 22,
   "metadata": {},
   "outputs": [
    {
     "data": {
      "text/plain": [
       "array([ 15,  16,  17,  18,  19,  20,  21,  22,  23,  24,  25,  26,  27,\n",
       "        28,  29,  30,  31,  32,  33,  34,  35,  36,  37,  38,  39,  40,\n",
       "        41,  42,  43,  44,  45,  46,  47,  48,  49,  50,  51,  52,  53,\n",
       "        54,  55,  56,  57,  58,  59,  60,  61,  62,  63,  64,  65,  66,\n",
       "        67,  68,  69,  70,  71,  72,  73,  74,  75,  76,  77,  78,  79,\n",
       "        80,  81,  82,  83,  84,  85,  86,  87,  88,  89,  90,  91,  92,\n",
       "        93,  94,  95,  96,  97,  98,  99, 100, 101, 102, 103, 104, 105])"
      ]
     },
     "execution_count": 22,
     "metadata": {},
     "output_type": "execute_result"
    }
   ],
   "source": [
    "np.arange(15,106)"
   ]
  },
  {
   "cell_type": "code",
   "execution_count": 23,
   "metadata": {},
   "outputs": [
    {
     "data": {
      "text/plain": [
       "array([ 15,  18,  21,  24,  27,  30,  33,  36,  39,  42,  45,  48,  51,\n",
       "        54,  57,  60,  63,  66,  69,  72,  75,  78,  81,  84,  87,  90,\n",
       "        93,  96,  99, 102, 105])"
      ]
     },
     "execution_count": 23,
     "metadata": {},
     "output_type": "execute_result"
    }
   ],
   "source": [
    "np.arange(15,106,3)"
   ]
  },
  {
   "cell_type": "code",
   "execution_count": 24,
   "metadata": {},
   "outputs": [
    {
     "name": "stdout",
     "output_type": "stream",
     "text": [
      "[78 60 17 13 49 36 63 83 79 28 33 40 78 66 42 86 19 43 53 86 22 48 26 35\n",
      " 88 82 23 72 39 28 79 38 51 40 66 65 82 24 54 34 24 40 24 81 67 85 76 48\n",
      " 16 43 87 82 46 53 55 32 65 86 68 42 22 44 56 44 53 42 79 30 58 61 51 57\n",
      " 53 65 46 13 85 70 52 79 79 53 87 58 40 20 14 43 14 76 36 22 49 50 85 72\n",
      " 41 22 86 19]\n"
     ]
    }
   ],
   "source": [
    "arr3 = np.random.randint(10,90,100)\n",
    "print(arr3)"
   ]
  },
  {
   "cell_type": "code",
   "execution_count": 31,
   "metadata": {},
   "outputs": [
    {
     "name": "stdout",
     "output_type": "stream",
     "text": [
      "[77 15 18 73 58 70 59 84 37 23 19 71 25 69 28 24 66 19 61 78 63 63 81 69\n",
      " 52 36 76 19 25 73 41 30 55 31 82 38 57 20 74 17 55 12 48 81 46 70 78 47\n",
      " 76 48 64 49 56 16 42 83 17 19 52 29 69 58 19 26 88 65 65 30 34 16 38 15\n",
      " 76 29 85 21 56 82 65 24 49 25 29 68 53 25 38 42 51 26 84 43 76 80 72 17\n",
      " 18 44 51 55]\n"
     ]
    }
   ],
   "source": [
    "np.random.seed(8)\n",
    "arr3 = np.random.randint(10,90,100)\n",
    "print(arr3)"
   ]
  },
  {
   "cell_type": "code",
   "execution_count": 30,
   "metadata": {},
   "outputs": [
    {
     "name": "stdout",
     "output_type": "stream",
     "text": [
      "[[77 15 18 73 58 70 59 84 37 23]\n",
      " [19 71 25 69 28 24 66 19 61 78]\n",
      " [63 63 81 69 52 36 76 19 25 73]\n",
      " [41 30 55 31 82 38 57 20 74 17]\n",
      " [55 12 48 81 46 70 78 47 76 48]\n",
      " [64 49 56 16 42 83 17 19 52 29]\n",
      " [69 58 19 26 88 65 65 30 34 16]\n",
      " [38 15 76 29 85 21 56 82 65 24]\n",
      " [49 25 29 68 53 25 38 42 51 26]\n",
      " [84 43 76 80 72 17 18 44 51 55]]\n"
     ]
    }
   ],
   "source": [
    "arr4 =arr3.reshape(10,10)\n",
    "print(arr4)"
   ]
  },
  {
   "cell_type": "code",
   "execution_count": 33,
   "metadata": {},
   "outputs": [
    {
     "name": "stdout",
     "output_type": "stream",
     "text": [
      "46\n"
     ]
    }
   ],
   "source": [
    "print(arr4[4,4])"
   ]
  },
  {
   "cell_type": "code",
   "execution_count": 35,
   "metadata": {},
   "outputs": [
    {
     "name": "stdout",
     "output_type": "stream",
     "text": [
      "[77 15 18 73 58 70 59 84 37 23 19 71 25 69 28 24 66 19 61 78 63 63 81 69\n",
      " 52 36 76 19 25 73 41 30 55 31 82 38 57 20 74 17 55 12 48 81 46 70 78 47\n",
      " 76 48 64 49 56 16 42 83 17 19 52 29 69 58 19 26 88 65 65 30 34 16 38 15\n",
      " 76 29 85 21 56 82 65 24 49 25 29 68 53 25 38 42 51 26 84 43 76 80 72 17\n",
      " 18 44 51 55]\n"
     ]
    }
   ],
   "source": [
    "arr5 = arr4.flatten()\n",
    "print(arr5)"
   ]
  },
  {
   "cell_type": "code",
   "execution_count": 36,
   "metadata": {},
   "outputs": [
    {
     "data": {
      "text/plain": [
       "np.int64(4871)"
      ]
     },
     "execution_count": 36,
     "metadata": {},
     "output_type": "execute_result"
    }
   ],
   "source": [
    "np.sum(arr5)"
   ]
  },
  {
   "cell_type": "code",
   "execution_count": 37,
   "metadata": {},
   "outputs": [
    {
     "data": {
      "text/plain": [
       "np.int32(88)"
      ]
     },
     "execution_count": 37,
     "metadata": {},
     "output_type": "execute_result"
    }
   ],
   "source": [
    "np.max(arr5)"
   ]
  },
  {
   "cell_type": "code",
   "execution_count": 38,
   "metadata": {},
   "outputs": [
    {
     "data": {
      "text/plain": [
       "np.int32(12)"
      ]
     },
     "execution_count": 38,
     "metadata": {},
     "output_type": "execute_result"
    }
   ],
   "source": [
    "np.min(arr5)"
   ]
  },
  {
   "cell_type": "code",
   "execution_count": 39,
   "metadata": {},
   "outputs": [
    {
     "data": {
      "text/plain": [
       "np.float64(48.71)"
      ]
     },
     "execution_count": 39,
     "metadata": {},
     "output_type": "execute_result"
    }
   ],
   "source": [
    "np.mean(arr5)"
   ]
  },
  {
   "cell_type": "code",
   "execution_count": 40,
   "metadata": {},
   "outputs": [
    {
     "data": {
      "text/plain": [
       "np.float64(50.0)"
      ]
     },
     "execution_count": 40,
     "metadata": {},
     "output_type": "execute_result"
    }
   ],
   "source": [
    "np.median(arr5)"
   ]
  },
  {
   "cell_type": "code",
   "execution_count": 41,
   "metadata": {},
   "outputs": [
    {
     "data": {
      "text/plain": [
       "np.float64(22.516791512113798)"
      ]
     },
     "execution_count": 41,
     "metadata": {},
     "output_type": "execute_result"
    }
   ],
   "source": [
    "np.std(arr5)"
   ]
  },
  {
   "cell_type": "code",
   "execution_count": 42,
   "metadata": {},
   "outputs": [
    {
     "data": {
      "text/plain": [
       "np.float64(507.00590000000005)"
      ]
     },
     "execution_count": 42,
     "metadata": {},
     "output_type": "execute_result"
    }
   ],
   "source": [
    "np.var(arr5)"
   ]
  },
  {
   "cell_type": "code",
   "execution_count": 46,
   "metadata": {},
   "outputs": [
    {
     "data": {
      "text/plain": [
       "np.float64(46.550000000000004)"
      ]
     },
     "execution_count": 46,
     "metadata": {},
     "output_type": "execute_result"
    }
   ],
   "source": [
    "np.percentile(arr5, 45)"
   ]
  },
  {
   "cell_type": "code",
   "execution_count": 47,
   "metadata": {},
   "outputs": [
    {
     "data": {
      "text/plain": [
       "array([8.77496439, 3.87298335, 4.24264069, 8.54400375, 7.61577311,\n",
       "       8.36660027, 7.68114575, 9.16515139, 6.08276253, 4.79583152,\n",
       "       4.35889894, 8.42614977, 5.        , 8.30662386, 5.29150262,\n",
       "       4.89897949, 8.1240384 , 4.35889894, 7.81024968, 8.83176087,\n",
       "       7.93725393, 7.93725393, 9.        , 8.30662386, 7.21110255,\n",
       "       6.        , 8.71779789, 4.35889894, 5.        , 8.54400375,\n",
       "       6.40312424, 5.47722558, 7.41619849, 5.56776436, 9.05538514,\n",
       "       6.164414  , 7.54983444, 4.47213595, 8.60232527, 4.12310563,\n",
       "       7.41619849, 3.46410162, 6.92820323, 9.        , 6.78232998,\n",
       "       8.36660027, 8.83176087, 6.8556546 , 8.71779789, 6.92820323,\n",
       "       8.        , 7.        , 7.48331477, 4.        , 6.4807407 ,\n",
       "       9.11043358, 4.12310563, 4.35889894, 7.21110255, 5.38516481,\n",
       "       8.30662386, 7.61577311, 4.35889894, 5.09901951, 9.38083152,\n",
       "       8.06225775, 8.06225775, 5.47722558, 5.83095189, 4.        ,\n",
       "       6.164414  , 3.87298335, 8.71779789, 5.38516481, 9.21954446,\n",
       "       4.58257569, 7.48331477, 9.05538514, 8.06225775, 4.89897949,\n",
       "       7.        , 5.        , 5.38516481, 8.24621125, 7.28010989,\n",
       "       5.        , 6.164414  , 6.4807407 , 7.14142843, 5.09901951,\n",
       "       9.16515139, 6.55743852, 8.71779789, 8.94427191, 8.48528137,\n",
       "       4.12310563, 4.24264069, 6.63324958, 7.14142843, 7.41619849])"
      ]
     },
     "execution_count": 47,
     "metadata": {},
     "output_type": "execute_result"
    }
   ],
   "source": [
    "np.sqrt(arr5)"
   ]
  },
  {
   "cell_type": "code",
   "execution_count": 48,
   "metadata": {},
   "outputs": [
    {
     "data": {
      "text/plain": [
       "np.int64(64)"
      ]
     },
     "execution_count": 48,
     "metadata": {},
     "output_type": "execute_result"
    }
   ],
   "source": [
    "# to know the index of the max value\n",
    "np.argmax(arr5)"
   ]
  },
  {
   "cell_type": "code",
   "execution_count": 49,
   "metadata": {},
   "outputs": [
    {
     "data": {
      "text/plain": [
       "np.int64(41)"
      ]
     },
     "execution_count": 49,
     "metadata": {},
     "output_type": "execute_result"
    }
   ],
   "source": [
    "# index of min\n",
    "np.argmin(arr5)"
   ]
  },
  {
   "cell_type": "code",
   "execution_count": null,
   "metadata": {},
   "outputs": [],
   "source": []
  }
 ],
 "metadata": {
  "kernelspec": {
   "display_name": "Python 3",
   "language": "python",
   "name": "python3"
  },
  "language_info": {
   "codemirror_mode": {
    "name": "ipython",
    "version": 3
   },
   "file_extension": ".py",
   "mimetype": "text/x-python",
   "name": "python",
   "nbconvert_exporter": "python",
   "pygments_lexer": "ipython3",
   "version": "3.12.5"
  }
 },
 "nbformat": 4,
 "nbformat_minor": 2
}
